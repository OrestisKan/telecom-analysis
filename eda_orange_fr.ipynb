{
 "cells": [
  {
   "cell_type": "markdown",
   "metadata": {},
   "source": [
    "# Orange Frane EDA"
   ]
  },
  {
   "cell_type": "markdown",
   "metadata": {},
   "source": [
    "Import libraries"
   ]
  },
  {
   "cell_type": "code",
   "execution_count": null,
   "metadata": {},
   "outputs": [],
   "source": [
    "import numpy as np\n",
    "import pandas as pd\n",
    "import plotly.graph_objs as go\n",
    "import os"
   ]
  },
  {
   "cell_type": "markdown",
   "metadata": {},
   "source": [
    "Join files and visualize "
   ]
  },
  {
   "cell_type": "code",
   "execution_count": null,
   "metadata": {},
   "outputs": [],
   "source": [
    "# Load data and clean up\n",
    "\n",
    "df_phone = pd.read_csv(\"data/orange_fr/OrangeFR_LONG_PHONE_26-02-2024_21-17.csv\")\n",
    "df_server = pd.read_csv(\"data/orange_fr/OrangeFR_SERVER_26-02-2024_20-17.csv\")\n",
    "trimmed_columns = {col: col.strip() for col in df_server.columns}\n",
    "df_server = df_server.rename(columns=trimmed_columns)\n",
    "trimmed_columns = {col: col.strip() for col in df_phone.columns}\n",
    "df_phone = df_phone.rename(columns=trimmed_columns)\n",
    "df_merged = df_phone.merge(df_server, how=\"inner\", on=\"Message id\")\n",
    "df_merged.sort_values(by=\"Time_y\")\n",
    "df_merged[\"Time_y\"] = df_merged[\"Time_y\"].astype(int)\n",
    "df_merged[\"time_difference_y\"] = df_merged['Time_y'].diff()\n",
    "df_merged.sort_values(by=\"Time_x\")\n",
    "df_merged[\"Time_x\"] = df_merged[\"Time_x\"].astype(int)\n",
    "df_merged[\"time_difference_x\"] = df_merged['Time_x'].diff()\n",
    "df_merged[\"Sender Port_x\"] = df_merged[\"Sender Port_x\"].astype(str)\n",
    "df_merged[\"Sender Port_y\"] = df_merged[\"Sender Port_y\"].astype(str)\n",
    "\n",
    "\n",
    "print(f\"Number of rows {len(df_merged.index)}\")\n",
    "# Visualize \n",
    "\n",
    "# Create a line chart using Plotly\n"
   ]
  },
  {
   "cell_type": "code",
   "execution_count": null,
   "metadata": {},
   "outputs": [],
   "source": [
    "fig = go.Figure()\n",
    "\n",
    "# Add a line trace\n",
    "fig.add_trace(go.Scatter(x=df_merged['Time_x'], y=df_merged['Sender Port_y'], mode='lines+markers', name='Port_y'))\n",
    "\n",
    "# Update layout\n",
    "fig.update_layout(title='Line and Marker Chart of Time and Port Number of Orange',\n",
    "                  xaxis_title='Time',\n",
    "                  yaxis_title='Port Number')\n",
    "\n",
    "# Show the plot\n",
    "fig.show()"
   ]
  }
 ],
 "metadata": {
  "kernelspec": {
   "display_name": "telecom-analysis",
   "language": "python",
   "name": "python3"
  },
  "language_info": {
   "codemirror_mode": {
    "name": "ipython",
    "version": 3
   },
   "file_extension": ".py",
   "mimetype": "text/x-python",
   "name": "python",
   "nbconvert_exporter": "python",
   "pygments_lexer": "ipython3",
   "version": "3.8.10"
  }
 },
 "nbformat": 4,
 "nbformat_minor": 2
}
